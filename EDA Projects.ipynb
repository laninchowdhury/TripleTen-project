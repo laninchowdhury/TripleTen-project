{
 "cells": [
  {
   "cell_type": "code",
   "execution_count": 93,
   "metadata": {},
   "outputs": [],
   "source": [
    "import pandas as pd\n",
    "import numpy as np\n",
    "import matplotlib.pyplot as plt\n",
    "%matplotlib inline\n",
    "import seaborn as sns\n",
    "\n"
   ]
  },
  {
   "cell_type": "code",
   "execution_count": 31,
   "metadata": {},
   "outputs": [],
   "source": [
    "df = pd.read_csv(\"C:\\\\Users\\\\nsuka\\\\Downloads\\\\vehicles_us.csv\")"
   ]
  },
  {
   "cell_type": "code",
   "execution_count": 60,
   "metadata": {},
   "outputs": [
    {
     "data": {
      "text/html": [
       "<div>\n",
       "<style scoped>\n",
       "    .dataframe tbody tr th:only-of-type {\n",
       "        vertical-align: middle;\n",
       "    }\n",
       "\n",
       "    .dataframe tbody tr th {\n",
       "        vertical-align: top;\n",
       "    }\n",
       "\n",
       "    .dataframe thead th {\n",
       "        text-align: right;\n",
       "    }\n",
       "</style>\n",
       "<table border=\"1\" class=\"dataframe\">\n",
       "  <thead>\n",
       "    <tr style=\"text-align: right;\">\n",
       "      <th></th>\n",
       "      <th>price</th>\n",
       "      <th>model_year</th>\n",
       "      <th>model</th>\n",
       "      <th>condition</th>\n",
       "      <th>cylinders</th>\n",
       "      <th>fuel</th>\n",
       "      <th>odometer</th>\n",
       "      <th>transmission</th>\n",
       "      <th>type</th>\n",
       "      <th>paint_color</th>\n",
       "      <th>is_4wd</th>\n",
       "      <th>date_posted</th>\n",
       "      <th>days_listed</th>\n",
       "    </tr>\n",
       "  </thead>\n",
       "  <tbody>\n",
       "    <tr>\n",
       "      <th>5</th>\n",
       "      <td>14990</td>\n",
       "      <td>2014</td>\n",
       "      <td>chrysler 300</td>\n",
       "      <td>excellent</td>\n",
       "      <td>6.0</td>\n",
       "      <td>gas</td>\n",
       "      <td>57954.0</td>\n",
       "      <td>automatic</td>\n",
       "      <td>sedan</td>\n",
       "      <td>black</td>\n",
       "      <td>1.0</td>\n",
       "      <td>2018-06-20</td>\n",
       "      <td>15</td>\n",
       "    </tr>\n",
       "    <tr>\n",
       "      <th>7</th>\n",
       "      <td>15990</td>\n",
       "      <td>2013</td>\n",
       "      <td>honda pilot</td>\n",
       "      <td>excellent</td>\n",
       "      <td>6.0</td>\n",
       "      <td>gas</td>\n",
       "      <td>109473.0</td>\n",
       "      <td>automatic</td>\n",
       "      <td>SUV</td>\n",
       "      <td>black</td>\n",
       "      <td>1.0</td>\n",
       "      <td>2019-01-07</td>\n",
       "      <td>68</td>\n",
       "    </tr>\n",
       "    <tr>\n",
       "      <th>10</th>\n",
       "      <td>19500</td>\n",
       "      <td>2011</td>\n",
       "      <td>chevrolet silverado 1500</td>\n",
       "      <td>excellent</td>\n",
       "      <td>8.0</td>\n",
       "      <td>gas</td>\n",
       "      <td>128413.0</td>\n",
       "      <td>automatic</td>\n",
       "      <td>pickup</td>\n",
       "      <td>black</td>\n",
       "      <td>1.0</td>\n",
       "      <td>2018-09-17</td>\n",
       "      <td>38</td>\n",
       "    </tr>\n",
       "    <tr>\n",
       "      <th>14</th>\n",
       "      <td>12990</td>\n",
       "      <td>2009</td>\n",
       "      <td>gmc yukon</td>\n",
       "      <td>excellent</td>\n",
       "      <td>8.0</td>\n",
       "      <td>gas</td>\n",
       "      <td>132285.0</td>\n",
       "      <td>automatic</td>\n",
       "      <td>SUV</td>\n",
       "      <td>black</td>\n",
       "      <td>1.0</td>\n",
       "      <td>2019-01-31</td>\n",
       "      <td>24</td>\n",
       "    </tr>\n",
       "    <tr>\n",
       "      <th>16</th>\n",
       "      <td>14990</td>\n",
       "      <td>2010</td>\n",
       "      <td>ram 1500</td>\n",
       "      <td>excellent</td>\n",
       "      <td>8.0</td>\n",
       "      <td>gas</td>\n",
       "      <td>130725.0</td>\n",
       "      <td>automatic</td>\n",
       "      <td>pickup</td>\n",
       "      <td>red</td>\n",
       "      <td>1.0</td>\n",
       "      <td>2018-12-30</td>\n",
       "      <td>13</td>\n",
       "    </tr>\n",
       "    <tr>\n",
       "      <th>17</th>\n",
       "      <td>13990</td>\n",
       "      <td>2014</td>\n",
       "      <td>jeep cherokee</td>\n",
       "      <td>excellent</td>\n",
       "      <td>6.0</td>\n",
       "      <td>gas</td>\n",
       "      <td>100669.0</td>\n",
       "      <td>automatic</td>\n",
       "      <td>SUV</td>\n",
       "      <td>red</td>\n",
       "      <td>1.0</td>\n",
       "      <td>2018-08-16</td>\n",
       "      <td>25</td>\n",
       "    </tr>\n",
       "    <tr>\n",
       "      <th>18</th>\n",
       "      <td>12500</td>\n",
       "      <td>2013</td>\n",
       "      <td>chevrolet traverse</td>\n",
       "      <td>excellent</td>\n",
       "      <td>6.0</td>\n",
       "      <td>gas</td>\n",
       "      <td>128325.0</td>\n",
       "      <td>automatic</td>\n",
       "      <td>SUV</td>\n",
       "      <td>white</td>\n",
       "      <td>1.0</td>\n",
       "      <td>2019-04-09</td>\n",
       "      <td>13</td>\n",
       "    </tr>\n",
       "    <tr>\n",
       "      <th>22</th>\n",
       "      <td>7500</td>\n",
       "      <td>2004</td>\n",
       "      <td>chevrolet silverado</td>\n",
       "      <td>like new</td>\n",
       "      <td>8.0</td>\n",
       "      <td>gas</td>\n",
       "      <td>180000.0</td>\n",
       "      <td>automatic</td>\n",
       "      <td>truck</td>\n",
       "      <td>red</td>\n",
       "      <td>1.0</td>\n",
       "      <td>2019-01-05</td>\n",
       "      <td>64</td>\n",
       "    </tr>\n",
       "    <tr>\n",
       "      <th>30</th>\n",
       "      <td>5000</td>\n",
       "      <td>2009</td>\n",
       "      <td>jeep liberty</td>\n",
       "      <td>good</td>\n",
       "      <td>6.0</td>\n",
       "      <td>gas</td>\n",
       "      <td>137273.0</td>\n",
       "      <td>automatic</td>\n",
       "      <td>SUV</td>\n",
       "      <td>white</td>\n",
       "      <td>1.0</td>\n",
       "      <td>2019-02-19</td>\n",
       "      <td>14</td>\n",
       "    </tr>\n",
       "    <tr>\n",
       "      <th>33</th>\n",
       "      <td>3890</td>\n",
       "      <td>2011</td>\n",
       "      <td>subaru outback</td>\n",
       "      <td>excellent</td>\n",
       "      <td>4.0</td>\n",
       "      <td>gas</td>\n",
       "      <td>300000.0</td>\n",
       "      <td>automatic</td>\n",
       "      <td>SUV</td>\n",
       "      <td>white</td>\n",
       "      <td>1.0</td>\n",
       "      <td>2018-12-25</td>\n",
       "      <td>31</td>\n",
       "    </tr>\n",
       "  </tbody>\n",
       "</table>\n",
       "</div>"
      ],
      "text/plain": [
       "    price  model_year                     model  condition  cylinders fuel  \\\n",
       "5   14990        2014              chrysler 300  excellent        6.0  gas   \n",
       "7   15990        2013               honda pilot  excellent        6.0  gas   \n",
       "10  19500        2011  chevrolet silverado 1500  excellent        8.0  gas   \n",
       "14  12990        2009                 gmc yukon  excellent        8.0  gas   \n",
       "16  14990        2010                  ram 1500  excellent        8.0  gas   \n",
       "17  13990        2014             jeep cherokee  excellent        6.0  gas   \n",
       "18  12500        2013        chevrolet traverse  excellent        6.0  gas   \n",
       "22   7500        2004       chevrolet silverado   like new        8.0  gas   \n",
       "30   5000        2009              jeep liberty       good        6.0  gas   \n",
       "33   3890        2011            subaru outback  excellent        4.0  gas   \n",
       "\n",
       "    odometer transmission    type paint_color  is_4wd date_posted  days_listed  \n",
       "5    57954.0    automatic   sedan       black     1.0  2018-06-20           15  \n",
       "7   109473.0    automatic     SUV       black     1.0  2019-01-07           68  \n",
       "10  128413.0    automatic  pickup       black     1.0  2018-09-17           38  \n",
       "14  132285.0    automatic     SUV       black     1.0  2019-01-31           24  \n",
       "16  130725.0    automatic  pickup         red     1.0  2018-12-30           13  \n",
       "17  100669.0    automatic     SUV         red     1.0  2018-08-16           25  \n",
       "18  128325.0    automatic     SUV       white     1.0  2019-04-09           13  \n",
       "22  180000.0    automatic   truck         red     1.0  2019-01-05           64  \n",
       "30  137273.0    automatic     SUV       white     1.0  2019-02-19           14  \n",
       "33  300000.0    automatic     SUV       white     1.0  2018-12-25           31  "
      ]
     },
     "execution_count": 60,
     "metadata": {},
     "output_type": "execute_result"
    }
   ],
   "source": [
    "df.head(10)"
   ]
  },
  {
   "cell_type": "code",
   "execution_count": 75,
   "metadata": {},
   "outputs": [
    {
     "data": {
      "text/plain": [
       "Index(['price', 'model_year', 'model', 'condition', 'cylinders', 'fuel',\n",
       "       'odometer', 'transmission', 'type', 'paint_color', 'is_4wd',\n",
       "       'date_posted', 'days_listed'],\n",
       "      dtype='object')"
      ]
     },
     "execution_count": 75,
     "metadata": {},
     "output_type": "execute_result"
    }
   ],
   "source": [
    "df.columns"
   ]
  },
  {
   "cell_type": "code",
   "execution_count": 76,
   "metadata": {},
   "outputs": [
    {
     "name": "stdout",
     "output_type": "stream",
     "text": [
      "<class 'pandas.core.frame.DataFrame'>\n",
      "Index: 14852 entries, 5 to 51515\n",
      "Data columns (total 13 columns):\n",
      " #   Column        Non-Null Count  Dtype         \n",
      "---  ------        --------------  -----         \n",
      " 0   price         14852 non-null  int64         \n",
      " 1   model_year    14852 non-null  int32         \n",
      " 2   model         14852 non-null  object        \n",
      " 3   condition     14852 non-null  object        \n",
      " 4   cylinders     14852 non-null  float64       \n",
      " 5   fuel          14852 non-null  object        \n",
      " 6   odometer      14852 non-null  float64       \n",
      " 7   transmission  14852 non-null  object        \n",
      " 8   type          14852 non-null  object        \n",
      " 9   paint_color   14852 non-null  object        \n",
      " 10  is_4wd        14852 non-null  float64       \n",
      " 11  date_posted   14852 non-null  datetime64[ns]\n",
      " 12  days_listed   14852 non-null  int64         \n",
      "dtypes: datetime64[ns](1), float64(3), int32(1), int64(2), object(6)\n",
      "memory usage: 1.5+ MB\n"
     ]
    }
   ],
   "source": [
    "df.info()"
   ]
  },
  {
   "cell_type": "code",
   "execution_count": 77,
   "metadata": {},
   "outputs": [
    {
     "data": {
      "text/html": [
       "<div>\n",
       "<style scoped>\n",
       "    .dataframe tbody tr th:only-of-type {\n",
       "        vertical-align: middle;\n",
       "    }\n",
       "\n",
       "    .dataframe tbody tr th {\n",
       "        vertical-align: top;\n",
       "    }\n",
       "\n",
       "    .dataframe thead th {\n",
       "        text-align: right;\n",
       "    }\n",
       "</style>\n",
       "<table border=\"1\" class=\"dataframe\">\n",
       "  <thead>\n",
       "    <tr style=\"text-align: right;\">\n",
       "      <th></th>\n",
       "      <th>price</th>\n",
       "      <th>model_year</th>\n",
       "      <th>cylinders</th>\n",
       "      <th>odometer</th>\n",
       "      <th>is_4wd</th>\n",
       "      <th>date_posted</th>\n",
       "      <th>days_listed</th>\n",
       "    </tr>\n",
       "  </thead>\n",
       "  <tbody>\n",
       "    <tr>\n",
       "      <th>count</th>\n",
       "      <td>14852.000000</td>\n",
       "      <td>14852.000000</td>\n",
       "      <td>14852.000000</td>\n",
       "      <td>14852.000000</td>\n",
       "      <td>14852.0</td>\n",
       "      <td>14852</td>\n",
       "      <td>14852.000000</td>\n",
       "    </tr>\n",
       "    <tr>\n",
       "      <th>mean</th>\n",
       "      <td>15446.921155</td>\n",
       "      <td>2010.052586</td>\n",
       "      <td>6.798950</td>\n",
       "      <td>117713.691287</td>\n",
       "      <td>1.0</td>\n",
       "      <td>2018-10-25 17:22:34.484244480</td>\n",
       "      <td>39.863520</td>\n",
       "    </tr>\n",
       "    <tr>\n",
       "      <th>min</th>\n",
       "      <td>1.000000</td>\n",
       "      <td>1965.000000</td>\n",
       "      <td>3.000000</td>\n",
       "      <td>0.000000</td>\n",
       "      <td>1.0</td>\n",
       "      <td>2018-05-01 00:00:00</td>\n",
       "      <td>0.000000</td>\n",
       "    </tr>\n",
       "    <tr>\n",
       "      <th>25%</th>\n",
       "      <td>6989.500000</td>\n",
       "      <td>2006.000000</td>\n",
       "      <td>6.000000</td>\n",
       "      <td>71597.500000</td>\n",
       "      <td>1.0</td>\n",
       "      <td>2018-07-30 00:00:00</td>\n",
       "      <td>19.000000</td>\n",
       "    </tr>\n",
       "    <tr>\n",
       "      <th>50%</th>\n",
       "      <td>13500.000000</td>\n",
       "      <td>2011.000000</td>\n",
       "      <td>8.000000</td>\n",
       "      <td>115665.500000</td>\n",
       "      <td>1.0</td>\n",
       "      <td>2018-10-26 00:00:00</td>\n",
       "      <td>34.000000</td>\n",
       "    </tr>\n",
       "    <tr>\n",
       "      <th>75%</th>\n",
       "      <td>21988.000000</td>\n",
       "      <td>2015.000000</td>\n",
       "      <td>8.000000</td>\n",
       "      <td>158378.000000</td>\n",
       "      <td>1.0</td>\n",
       "      <td>2019-01-22 00:00:00</td>\n",
       "      <td>54.000000</td>\n",
       "    </tr>\n",
       "    <tr>\n",
       "      <th>max</th>\n",
       "      <td>375000.000000</td>\n",
       "      <td>2019.000000</td>\n",
       "      <td>12.000000</td>\n",
       "      <td>866000.000000</td>\n",
       "      <td>1.0</td>\n",
       "      <td>2019-04-19 00:00:00</td>\n",
       "      <td>263.000000</td>\n",
       "    </tr>\n",
       "    <tr>\n",
       "      <th>std</th>\n",
       "      <td>11393.676296</td>\n",
       "      <td>5.790532</td>\n",
       "      <td>1.468353</td>\n",
       "      <td>65610.650451</td>\n",
       "      <td>0.0</td>\n",
       "      <td>NaN</td>\n",
       "      <td>28.073348</td>\n",
       "    </tr>\n",
       "  </tbody>\n",
       "</table>\n",
       "</div>"
      ],
      "text/plain": [
       "               price    model_year     cylinders       odometer   is_4wd  \\\n",
       "count   14852.000000  14852.000000  14852.000000   14852.000000  14852.0   \n",
       "mean    15446.921155   2010.052586      6.798950  117713.691287      1.0   \n",
       "min         1.000000   1965.000000      3.000000       0.000000      1.0   \n",
       "25%      6989.500000   2006.000000      6.000000   71597.500000      1.0   \n",
       "50%     13500.000000   2011.000000      8.000000  115665.500000      1.0   \n",
       "75%     21988.000000   2015.000000      8.000000  158378.000000      1.0   \n",
       "max    375000.000000   2019.000000     12.000000  866000.000000      1.0   \n",
       "std     11393.676296      5.790532      1.468353   65610.650451      0.0   \n",
       "\n",
       "                         date_posted   days_listed  \n",
       "count                          14852  14852.000000  \n",
       "mean   2018-10-25 17:22:34.484244480     39.863520  \n",
       "min              2018-05-01 00:00:00      0.000000  \n",
       "25%              2018-07-30 00:00:00     19.000000  \n",
       "50%              2018-10-26 00:00:00     34.000000  \n",
       "75%              2019-01-22 00:00:00     54.000000  \n",
       "max              2019-04-19 00:00:00    263.000000  \n",
       "std                              NaN     28.073348  "
      ]
     },
     "execution_count": 77,
     "metadata": {},
     "output_type": "execute_result"
    }
   ],
   "source": [
    "df.describe()"
   ]
  },
  {
   "cell_type": "code",
   "execution_count": 78,
   "metadata": {},
   "outputs": [
    {
     "data": {
      "text/plain": [
       "price           0\n",
       "model_year      0\n",
       "model           0\n",
       "condition       0\n",
       "cylinders       0\n",
       "fuel            0\n",
       "odometer        0\n",
       "transmission    0\n",
       "type            0\n",
       "paint_color     0\n",
       "is_4wd          0\n",
       "date_posted     0\n",
       "days_listed     0\n",
       "dtype: int64"
      ]
     },
     "execution_count": 78,
     "metadata": {},
     "output_type": "execute_result"
    }
   ],
   "source": [
    "df.isnull().sum()"
   ]
  },
  {
   "cell_type": "code",
   "execution_count": 79,
   "metadata": {},
   "outputs": [
    {
     "data": {
      "text/plain": [
       "0"
      ]
     },
     "execution_count": 79,
     "metadata": {},
     "output_type": "execute_result"
    }
   ],
   "source": [
    "df.duplicated().sum()"
   ]
  },
  {
   "cell_type": "code",
   "execution_count": 80,
   "metadata": {},
   "outputs": [
    {
     "data": {
      "text/plain": [
       "(14852, 13)"
      ]
     },
     "execution_count": 80,
     "metadata": {},
     "output_type": "execute_result"
    }
   ],
   "source": [
    "df.shape"
   ]
  },
  {
   "cell_type": "code",
   "execution_count": 81,
   "metadata": {},
   "outputs": [],
   "source": [
    "df.dropna(inplace=True)"
   ]
  },
  {
   "cell_type": "code",
   "execution_count": 82,
   "metadata": {},
   "outputs": [
    {
     "data": {
      "text/plain": [
       "(14852, 13)"
      ]
     },
     "execution_count": 82,
     "metadata": {},
     "output_type": "execute_result"
    }
   ],
   "source": [
    "df.shape"
   ]
  },
  {
   "cell_type": "code",
   "execution_count": 83,
   "metadata": {},
   "outputs": [
    {
     "data": {
      "text/plain": [
       "price           0\n",
       "model_year      0\n",
       "model           0\n",
       "condition       0\n",
       "cylinders       0\n",
       "fuel            0\n",
       "odometer        0\n",
       "transmission    0\n",
       "type            0\n",
       "paint_color     0\n",
       "is_4wd          0\n",
       "date_posted     0\n",
       "days_listed     0\n",
       "dtype: int64"
      ]
     },
     "execution_count": 83,
     "metadata": {},
     "output_type": "execute_result"
    }
   ],
   "source": [
    "df.isnull().sum()"
   ]
  },
  {
   "cell_type": "code",
   "execution_count": 84,
   "metadata": {},
   "outputs": [],
   "source": [
    "df['model_year'] = df['model_year'].astype('int')"
   ]
  },
  {
   "cell_type": "code",
   "execution_count": 85,
   "metadata": {},
   "outputs": [
    {
     "data": {
      "text/plain": [
       "dtype('int32')"
      ]
     },
     "execution_count": 85,
     "metadata": {},
     "output_type": "execute_result"
    }
   ],
   "source": [
    "df['model_year'].dtypes"
   ]
  },
  {
   "cell_type": "code",
   "execution_count": 86,
   "metadata": {},
   "outputs": [
    {
     "data": {
      "text/plain": [
       "Index(['price', 'model_year', 'model', 'condition', 'cylinders', 'fuel',\n",
       "       'odometer', 'transmission', 'type', 'paint_color', 'is_4wd',\n",
       "       'date_posted', 'days_listed'],\n",
       "      dtype='object')"
      ]
     },
     "execution_count": 86,
     "metadata": {},
     "output_type": "execute_result"
    }
   ],
   "source": [
    "df.columns"
   ]
  },
  {
   "cell_type": "code",
   "execution_count": 90,
   "metadata": {},
   "outputs": [
    {
     "data": {
      "text/html": [
       "<div>\n",
       "<style scoped>\n",
       "    .dataframe tbody tr th:only-of-type {\n",
       "        vertical-align: middle;\n",
       "    }\n",
       "\n",
       "    .dataframe tbody tr th {\n",
       "        vertical-align: top;\n",
       "    }\n",
       "\n",
       "    .dataframe thead th {\n",
       "        text-align: right;\n",
       "    }\n",
       "</style>\n",
       "<table border=\"1\" class=\"dataframe\">\n",
       "  <thead>\n",
       "    <tr style=\"text-align: right;\">\n",
       "      <th></th>\n",
       "      <th>price</th>\n",
       "      <th>model_year</th>\n",
       "      <th>model</th>\n",
       "      <th>condition</th>\n",
       "      <th>cylinders</th>\n",
       "      <th>fuel</th>\n",
       "      <th>odometer</th>\n",
       "      <th>transmission</th>\n",
       "      <th>type</th>\n",
       "      <th>paint_color</th>\n",
       "      <th>is_4wd</th>\n",
       "      <th>date_posted</th>\n",
       "      <th>days_listed</th>\n",
       "    </tr>\n",
       "  </thead>\n",
       "  <tbody>\n",
       "    <tr>\n",
       "      <th>5</th>\n",
       "      <td>14990</td>\n",
       "      <td>2014</td>\n",
       "      <td>chrysler 300</td>\n",
       "      <td>excellent</td>\n",
       "      <td>6.0</td>\n",
       "      <td>gas</td>\n",
       "      <td>57954.0</td>\n",
       "      <td>automatic</td>\n",
       "      <td>sedan</td>\n",
       "      <td>black</td>\n",
       "      <td>1.0</td>\n",
       "      <td>2018-06-20</td>\n",
       "      <td>15</td>\n",
       "    </tr>\n",
       "    <tr>\n",
       "      <th>7</th>\n",
       "      <td>15990</td>\n",
       "      <td>2013</td>\n",
       "      <td>honda pilot</td>\n",
       "      <td>excellent</td>\n",
       "      <td>6.0</td>\n",
       "      <td>gas</td>\n",
       "      <td>109473.0</td>\n",
       "      <td>automatic</td>\n",
       "      <td>SUV</td>\n",
       "      <td>black</td>\n",
       "      <td>1.0</td>\n",
       "      <td>2019-01-07</td>\n",
       "      <td>68</td>\n",
       "    </tr>\n",
       "    <tr>\n",
       "      <th>10</th>\n",
       "      <td>19500</td>\n",
       "      <td>2011</td>\n",
       "      <td>chevrolet silverado 1500</td>\n",
       "      <td>excellent</td>\n",
       "      <td>8.0</td>\n",
       "      <td>gas</td>\n",
       "      <td>128413.0</td>\n",
       "      <td>automatic</td>\n",
       "      <td>pickup</td>\n",
       "      <td>black</td>\n",
       "      <td>1.0</td>\n",
       "      <td>2018-09-17</td>\n",
       "      <td>38</td>\n",
       "    </tr>\n",
       "    <tr>\n",
       "      <th>14</th>\n",
       "      <td>12990</td>\n",
       "      <td>2009</td>\n",
       "      <td>gmc yukon</td>\n",
       "      <td>excellent</td>\n",
       "      <td>8.0</td>\n",
       "      <td>gas</td>\n",
       "      <td>132285.0</td>\n",
       "      <td>automatic</td>\n",
       "      <td>SUV</td>\n",
       "      <td>black</td>\n",
       "      <td>1.0</td>\n",
       "      <td>2019-01-31</td>\n",
       "      <td>24</td>\n",
       "    </tr>\n",
       "    <tr>\n",
       "      <th>16</th>\n",
       "      <td>14990</td>\n",
       "      <td>2010</td>\n",
       "      <td>ram 1500</td>\n",
       "      <td>excellent</td>\n",
       "      <td>8.0</td>\n",
       "      <td>gas</td>\n",
       "      <td>130725.0</td>\n",
       "      <td>automatic</td>\n",
       "      <td>pickup</td>\n",
       "      <td>red</td>\n",
       "      <td>1.0</td>\n",
       "      <td>2018-12-30</td>\n",
       "      <td>13</td>\n",
       "    </tr>\n",
       "    <tr>\n",
       "      <th>17</th>\n",
       "      <td>13990</td>\n",
       "      <td>2014</td>\n",
       "      <td>jeep cherokee</td>\n",
       "      <td>excellent</td>\n",
       "      <td>6.0</td>\n",
       "      <td>gas</td>\n",
       "      <td>100669.0</td>\n",
       "      <td>automatic</td>\n",
       "      <td>SUV</td>\n",
       "      <td>red</td>\n",
       "      <td>1.0</td>\n",
       "      <td>2018-08-16</td>\n",
       "      <td>25</td>\n",
       "    </tr>\n",
       "    <tr>\n",
       "      <th>18</th>\n",
       "      <td>12500</td>\n",
       "      <td>2013</td>\n",
       "      <td>chevrolet traverse</td>\n",
       "      <td>excellent</td>\n",
       "      <td>6.0</td>\n",
       "      <td>gas</td>\n",
       "      <td>128325.0</td>\n",
       "      <td>automatic</td>\n",
       "      <td>SUV</td>\n",
       "      <td>white</td>\n",
       "      <td>1.0</td>\n",
       "      <td>2019-04-09</td>\n",
       "      <td>13</td>\n",
       "    </tr>\n",
       "    <tr>\n",
       "      <th>22</th>\n",
       "      <td>7500</td>\n",
       "      <td>2004</td>\n",
       "      <td>chevrolet silverado</td>\n",
       "      <td>like new</td>\n",
       "      <td>8.0</td>\n",
       "      <td>gas</td>\n",
       "      <td>180000.0</td>\n",
       "      <td>automatic</td>\n",
       "      <td>truck</td>\n",
       "      <td>red</td>\n",
       "      <td>1.0</td>\n",
       "      <td>2019-01-05</td>\n",
       "      <td>64</td>\n",
       "    </tr>\n",
       "    <tr>\n",
       "      <th>30</th>\n",
       "      <td>5000</td>\n",
       "      <td>2009</td>\n",
       "      <td>jeep liberty</td>\n",
       "      <td>good</td>\n",
       "      <td>6.0</td>\n",
       "      <td>gas</td>\n",
       "      <td>137273.0</td>\n",
       "      <td>automatic</td>\n",
       "      <td>SUV</td>\n",
       "      <td>white</td>\n",
       "      <td>1.0</td>\n",
       "      <td>2019-02-19</td>\n",
       "      <td>14</td>\n",
       "    </tr>\n",
       "    <tr>\n",
       "      <th>33</th>\n",
       "      <td>3890</td>\n",
       "      <td>2011</td>\n",
       "      <td>subaru outback</td>\n",
       "      <td>excellent</td>\n",
       "      <td>4.0</td>\n",
       "      <td>gas</td>\n",
       "      <td>300000.0</td>\n",
       "      <td>automatic</td>\n",
       "      <td>SUV</td>\n",
       "      <td>white</td>\n",
       "      <td>1.0</td>\n",
       "      <td>2018-12-25</td>\n",
       "      <td>31</td>\n",
       "    </tr>\n",
       "  </tbody>\n",
       "</table>\n",
       "</div>"
      ],
      "text/plain": [
       "    price  model_year                     model  condition  cylinders fuel  \\\n",
       "5   14990        2014              chrysler 300  excellent        6.0  gas   \n",
       "7   15990        2013               honda pilot  excellent        6.0  gas   \n",
       "10  19500        2011  chevrolet silverado 1500  excellent        8.0  gas   \n",
       "14  12990        2009                 gmc yukon  excellent        8.0  gas   \n",
       "16  14990        2010                  ram 1500  excellent        8.0  gas   \n",
       "17  13990        2014             jeep cherokee  excellent        6.0  gas   \n",
       "18  12500        2013        chevrolet traverse  excellent        6.0  gas   \n",
       "22   7500        2004       chevrolet silverado   like new        8.0  gas   \n",
       "30   5000        2009              jeep liberty       good        6.0  gas   \n",
       "33   3890        2011            subaru outback  excellent        4.0  gas   \n",
       "\n",
       "    odometer transmission    type paint_color  is_4wd date_posted  days_listed  \n",
       "5    57954.0    automatic   sedan       black     1.0  2018-06-20           15  \n",
       "7   109473.0    automatic     SUV       black     1.0  2019-01-07           68  \n",
       "10  128413.0    automatic  pickup       black     1.0  2018-09-17           38  \n",
       "14  132285.0    automatic     SUV       black     1.0  2019-01-31           24  \n",
       "16  130725.0    automatic  pickup         red     1.0  2018-12-30           13  \n",
       "17  100669.0    automatic     SUV         red     1.0  2018-08-16           25  \n",
       "18  128325.0    automatic     SUV       white     1.0  2019-04-09           13  \n",
       "22  180000.0    automatic   truck         red     1.0  2019-01-05           64  \n",
       "30  137273.0    automatic     SUV       white     1.0  2019-02-19           14  \n",
       "33  300000.0    automatic     SUV       white     1.0  2018-12-25           31  "
      ]
     },
     "execution_count": 90,
     "metadata": {},
     "output_type": "execute_result"
    }
   ],
   "source": [
    "df.head(10)"
   ]
  },
  {
   "cell_type": "code",
   "execution_count": 87,
   "metadata": {},
   "outputs": [],
   "source": [
    "df['date_posted']=pd.to_datetime(df['date_posted'])"
   ]
  },
  {
   "cell_type": "code",
   "execution_count": 94,
   "metadata": {},
   "outputs": [
    {
     "data": {
      "image/png": "[encoded data removed]",
      "text/plain": [
       "<Figure size 1000x600 with 1 Axes>"
      ]
     },
     "metadata": {},
     "output_type": "display_data"
    }
   ],
   "source": [
    "plt.figure(figsize=(10, 6))\n",
    "sns.histplot(df['price'])\n",
    "plt.title('Distribution of Price')\n",
    "plt.show()"
   ]
  },
  {
   "cell_type": "code",
   "execution_count": 96,
   "metadata": {},
   "outputs": [
    {
     "data": {
      "image/png": "[encoded data removed]",
      "text/plain": [
       "<Figure size 1000x600 with 1 Axes>"
      ]
     },
     "metadata": {},
     "output_type": "display_data"
    }
   ],
   "source": [
    "plt.figure(figsize=(10,6))\n",
    "sns.countplot(x='condition', data=df)\n",
    "plt.title('Count of Different Conditions')\n",
    "plt.show()"
   ]
  },
  {
   "cell_type": "code",
   "execution_count": 98,
   "metadata": {},
   "outputs": [
    {
     "data": {
      "image/png": "[encoded data removed]",
      "text/plain": [
       "<Figure size 1000x600 with 1 Axes>"
      ]
     },
     "metadata": {},
     "output_type": "display_data"
    }
   ],
   "source": [
    "plt.figure(figsize=(10, 6))\n",
    "sns.scatterplot(x='model_year', y='price', data=df)\n",
    "plt.title('Price vs. Model Year')\n",
    "plt.show()"
   ]
  },
  {
   "cell_type": "code",
   "execution_count": 99,
   "metadata": {},
   "outputs": [
    {
     "data": {
      "image/png": "[encoded data removed]",
      "text/plain": [
       "<Figure size 1000x600 with 1 Axes>"
      ]
     },
     "metadata": {},
     "output_type": "display_data"
    }
   ],
   "source": [
    "plt.figure(figsize=(10,6))\n",
    "sns.boxplot(x = 'condition', y = 'price', data=df)\n",
    "plt.title('Price by Condion')\n",
    "plt.show()"
   ]
  },
  {
   "cell_type": "code",
   "execution_count": 109,
   "metadata": {},
   "outputs": [
    {
     "name": "stdout",
     "output_type": "stream",
     "text": [
      "The average price of the vehicles is: 15446.921155399947\n",
      "Most vehicles are listed in good condition.\n",
      "There is a strong correlation between model year and price.\n"
     ]
    }
   ],
   "source": [
    "print(\"The average price of the vehicles is:\", df['price'].mean())\n",
    "print(\"Most vehicles are listed in good condition.\")\n",
    "print(\"There is a strong correlation between model year and price.\")"
   ]
  },
  {
   "cell_type": "markdown",
   "metadata": {},
   "source": []
  },
  {
   "cell_type": "markdown",
   "metadata": {},
   "source": [
    "- **Average Price of Vehicles**: $15,446.92\n",
    "- **Condition**: Most vehicles are listed in good condition.\n",
    "- **Correlation**: There is a strong correlation between model year and price."
   ]
  },
  {
   "cell_type": "markdown",
   "metadata": {},
   "source": [
    "- **Average Price of Vehicles**: $15,446.92\n",
    "- **Condition**: Most vehicles are listed in good condition.\n",
    "- **Correlation**: There is a strong correlation between model year and price."
   ]
  },
  {
   "cell_type": "markdown",
   "metadata": {},
   "source": [
    "- **Average Price of Vehicles**: $15,446.92\n",
    "- **Condition**: Most vehicles are listed in good condition.\n",
    "- **Correlation**: There is a strong correlation between model year and price."
   ]
  },
  {
   "cell_type": "code",
   "execution_count": null,
   "metadata": {},
   "outputs": [],
   "source": []
  }
 ],
 "metadata": {
  "kernelspec": {
   "display_name": "base",
   "language": "python",
   "name": "python3"
  },
  "language_info": {
   "codemirror_mode": {
    "name": "ipython",
    "version": 3
   },
   "file_extension": ".py",
   "mimetype": "text/x-python",
   "name": "python",
   "nbconvert_exporter": "python",
   "pygments_lexer": "ipython3",
   "version": "3.12.4"
  }
 },
 "nbformat": 4,
 "nbformat_minor": 2
}
